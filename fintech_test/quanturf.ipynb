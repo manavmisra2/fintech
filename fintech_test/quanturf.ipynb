{
 "cells": [
  {
   "cell_type": "markdown",
   "metadata": {},
   "source": [
    "# Welcome to Quanturf! \n",
    "\n",
    "### End to end Algo Trading made seamless!"
   ]
  },
  {
   "cell_type": "markdown",
   "metadata": {},
   "source": [
    "#### just run following code to install any of the packages below and run in inside Quanturf platform"
   ]
  },
  {
   "cell_type": "code",
   "execution_count": null,
   "metadata": {},
   "outputs": [],
   "source": [
    "required = {'python-git'}\n",
    "missing = required \n",
    "if missing:\n",
    "    !pip install python-git"
   ]
  },
  {
   "cell_type": "code",
   "execution_count": null,
   "metadata": {},
   "outputs": [],
   "source": [
    "from git import Repo\n",
    "src=input(\"Enter the url of git repository : \")\n",
    "directory=input(\"Enter folder name to clone on local machine: \")\n",
    "Repo.clone_from(src, directory)"
   ]
  },
  {
   "cell_type": "markdown",
   "metadata": {},
   "source": [
    "### 1. Backtesting\n",
    "\n",
    "* [backtrader](https://www.backtrader.com/) - feature-rich Python framework for backtesting and trading\n",
    "* [pyalgotrade](https://gbeced.github.io/pyalgotrade/) - Python Algorithmic Trading Library with focus on backtesting and support for paper-trading and live-trading\n",
    "* [bt](https://pmorissette.github.io/bt/) - bt is a flexible backtesting framework for Python used to test quantitative trading strategies\n",
    "* [backtesting](https://kernc.github.io/backtesting.py/) - Backtesting.py is a Python framework for inferring viability of trading strategies on historical (past) data"
   ]
  },
  {
   "cell_type": "markdown",
   "metadata": {},
   "source": [
    "### 2. Algo Trading Data ( all asset classes, multiple indexes and live trading)\n",
    "\n",
    "* [intrinio-sdk](https://docs.intrinio.com/documentation/python) - Intrinio provides US market data, company fundamentals data, options data and SEC data, powered by advanced data quality technology\n",
    "* [polygon-api-client](https://pypi.org/project/polygon-api-client/) - python client for Polygon.io, provider of real-time and historical financial market data APIs\n",
    "* [iexfinance](https://pypi.org/project/iexfinance/) - Python SDK for IEX Cloud. Easy-to-use toolkit to obtain data for Stocks, ETFs, Mutual Funds, Forex/Currencies, Options, Commodities, Bonds, and Cryptocurrencies\n",
    "* [yfinance](https://pypi.org/project/yfinance/) - yfinance offers a reliable, threaded, and Pythonic way to download historical market data from Yahoo! finance.\n",
    "* [quandl](https://www.quandl.com/tools/python) - source for financial, economic, and alternative datasets, serving investment professionals\n",
    "* [alpha-vantage](https://alpha-vantage.readthedocs.io/) - The Alpha Vantage Stock API provides free JSON access to the stock market, plus a comprehensive set of technical indicators\n",
    "* [sec-edgar-downloader](https://sec-edgar-downloader.readthedocs.io/en/latest/) - package for downloading company filings from the SEC EDGAR database\n"
   ]
  },
  {
   "cell_type": "markdown",
   "metadata": {},
   "source": [
    "### 3.Data Analysis\n",
    "\n",
    "* [pandas](https://pandas.pydata.org/) - library for data analysis and manipulation of numerical tables and time series\n",
    "* [NumPy](https://numpy.org/) - library for multi-dimensional arrays and matrices, mathematical functions\n",
    "* [SciPy](https://www.scipy.org/) - modules for linear algebra, integration, FFT, signal and image processing\n",
    "* [pandas-datareader](https://pandas-datareader.readthedocs.io/) - remote data access for pandas"
   ]
  },
  {
   "cell_type": "markdown",
   "metadata": {},
   "source": [
    "### 4. Data Visualization\n",
    "\n",
    "* [matplotlib](https://matplotlib.org/) - comprehensive library for creating static, animated, and interactive visualizations in Python\n",
    "* [plotly](https://pypi.org/project/plotly/) - provides online graphing, analytics, and statistics tools for individuals and collaboration, as well as scientific graphing libraries for Python\n",
    "* [dash](https://plotly.com/dash/) - build & deploy beautiful analytic web apps using Python\n",
    "* [mplfinance](https://github.com/matplotlib/mplfinance) - matplotlib utilities for the visualization, and visual analysis, of financial data\n",
    "* [jupyterlab](https://jupyterlab.readthedocs.io/) - web-based interactive development environment for Jupyter notebooks, code, and data\n",
    "pillow"
   ]
  },
  {
   "cell_type": "markdown",
   "metadata": {},
   "source": [
    " ### 5. Portfolio and Performance Analysis\n",
    "\n",
    "* [pyfolio](https://github.com/quantopian/pyfolio) - library for performance and risk analysis of financial portfolios developed by Quantopian\n",
    "* [finquant](https://finquant.readthedocs.io/) - program for financial portfolio management, analysis and optimisation"
   ]
  },
  {
   "cell_type": "markdown",
   "metadata": {},
   "source": [
    "### 6. Technical Analysis\n",
    "\n",
    "* [ta](https://technical-analysis-library-in-python.readthedocs.io/) - Technical Analysis Library in Python based on pandas\n",
    "* [TA-Lib](https://mrjbq7.github.io/ta-lib/) - Python wrapper for TA-Lib\n",
    "* [bta-lib](https://btalib.backtrader.com/) - backtrader ta-lib\n",
    "* [pandas-ta](https://github.com/twopirllc/pandas-ta) - Pandas Technical Analysis (Pandas TA) is an easy to use library that leverages the Pandas library with more than 120 Indicators and Utility functions\n",
    "* [tulipy](https://github.com/cirla/tulipy) - Python bindings for Tulip Indicators"
   ]
  },
  {
   "cell_type": "markdown",
   "metadata": {},
   "source": [
    "\n",
    "### 7. AI / Machine Learning\n",
    "\n",
    "* [tensorflow](https://www.tensorflow.org/) - open source library to help you develop and train ML models\n",
    "* [scikit-learn](https://scikit-learn.org/) - machine learning library\n",
    "* [keras](https://keras.io/) - deep learning framework\n",
    "* [pytorch](https://pytorch.org/) - optimized tensor library for deep learning using GPUs and CPUs\n",
    "* [opencv-python](https://github.com/skvark/opencv-python) - open source computer vision library"
   ]
  },
  {
   "cell_type": "markdown",
   "metadata": {},
   "source": [
    "### 8. Other packages\n",
    "\n",
    "#### 8.1 Broker APIs\n",
    "\n",
    "* [alpaca-trade-api](https://github.com/alpacahq/alpaca-trade-api-python) - python library for the Alpaca Commission Free Trading API. It allows rapid trading algo development easily, with support for both REST and streaming data interfaces.\n",
    "* [python-binance](https://python-binance.readthedocs.io/) - unofficial Python wrapper for the Binance exchange REST API v3\n",
    "* [tda-api](https://github.com/alexgolec/tda-api) - tda-api is an unofficial wrapper around the TD Ameritrade APIs. It strives to be as thin and unopinionated as possible, offering an elegant programmatic interface over each endpoint\n",
    "* [ib_insync](https://github.com/erdewit/ib_insync) - The goal of the IB-insync library is to make working with the Trader Workstation API from Interactive Brokers as easy as possible.\n",
    "* [robin-stocks](https://robin-stocks.readthedocs.io/) - simple to use functions to interact with the Robinhood Private API\n",
    "\n",
    "#### 8.2 Database Libraries and Data Storage\n",
    "\n",
    "* [psycopg2](https://pypi.org/project/psycopg2/) - most popular PostgreSQL database adapter for the Python programming language.\n",
    "* [sqlalchemy](https://www.sqlalchemy.org/) - SQLAlchemy is the Python SQL toolkit and Object Relational Mapper that gives application developers the full power and flexibility of SQL.\n",
    "* [redis](https://redis.io/) - open source, in-memory data structure store, used as a database, cache, and message broker\n",
    "* [h5py](https://www.h5py.org/) - Pythonic interface to the HDF5 binary data format"
   ]
  }
 ],
 "metadata": {
  "kernelspec": {
   "display_name": "Python 3.9.6 64-bit",
   "language": "python",
   "name": "python3"
  },
  "language_info": {
   "codemirror_mode": {
    "name": "ipython",
    "version": 3
   },
   "file_extension": ".py",
   "mimetype": "text/x-python",
   "name": "python",
   "nbconvert_exporter": "python",
   "pygments_lexer": "ipython3",
   "version": "3.9.6"
  },
  "vscode": {
   "interpreter": {
    "hash": "4371aca51edd8714739f1d83c7547c469e9286d8024b92f5dda446059cb5e836"
   }
  }
 },
 "nbformat": 4,
 "nbformat_minor": 4
}
