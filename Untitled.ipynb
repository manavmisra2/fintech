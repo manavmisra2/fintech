{
 "cells": [
  {
   "cell_type": "code",
   "execution_count": 5,
   "id": "36e6cb12-243e-4074-a729-83ee5b0313d5",
   "metadata": {},
   "outputs": [
    {
     "data": {
      "text/plain": [
       "'C:/Users/manav/anaconda3/lib/site-packages/jupyterlab_templates/templates/jupyterlab_templates/quanturf_test.ipynb'"
      ]
     },
     "execution_count": 5,
     "metadata": {},
     "output_type": "execute_result"
    }
   ],
   "source": [
    "import os, site,shutil\n",
    "out=site.getsitepackages()\n",
    "str_out = out[1]\n",
    "filename = os.path.join(str_out, \"fintech_test\",\n",
    "                \"jupyter_notebook_config.py\")\n",
    "filename2 = filename.replace(os.sep, '/')\n",
    "filename3 = os.path.join(\n",
    "str_out, \"jupyterlab_templates/templates/jupyterlab_templates/\")\n",
    "filename3 = os.path.join(\n",
    "str_out, \"jupyterlab_templates/templates/jupyterlab_templates/\")\n",
    "src_file = os.path.join(str_out, \"fintech_test\", \"quanturf_test.ipynb\")\n",
    "src_path = src_file\n",
    "dst_path = filename3.replace(os.sep, '/')\n",
    "shutil.copy(src_path, dst_path)\n",
    "\n",
    "# os.system(\"jupyter lab --config=\" + filename2)\n"
   ]
  }
 ],
 "metadata": {
  "kernelspec": {
   "display_name": "Python 3",
   "language": "python",
   "name": "python3"
  },
  "language_info": {
   "codemirror_mode": {
    "name": "ipython",
    "version": 3
   },
   "file_extension": ".py",
   "mimetype": "text/x-python",
   "name": "python",
   "nbconvert_exporter": "python",
   "pygments_lexer": "ipython3",
   "version": "3.8.3"
  }
 },
 "nbformat": 4,
 "nbformat_minor": 5
}
