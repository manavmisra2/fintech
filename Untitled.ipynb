{
 "cells": [
  {
   "cell_type": "code",
   "execution_count": null,
   "id": "69fe763c-474c-4670-b91b-fe7d3a4cb6e4",
   "metadata": {},
   "outputs": [],
   "source": [
    "#!/usr/bin/env python\n",
    "\n",
    "import os\n",
    "import site\n",
    "out=site.getsitepackages()\n",
    "def listToString(s): \n",
    "    \n",
    "    # initialize an empty string\n",
    "    str1 = \"\" \n",
    "    \n",
    "    # traverse in the string  \n",
    "    for ele in s: \n",
    "        str1 += ele  \n",
    "    \n",
    "    # return string  \n",
    "    return str1 \n",
    "\n",
    "out2 = listToString(out)\n",
    "\n",
    "filename =  os.path.join(out2, \"finailab_install\", \"jupyter_notebook_config.py\")\n",
    "\n",
    "filename2 = filename.replace(os.sep, '/')\n",
    "\n",
    "type(filename2)\n",
    "\n",
    "!jupyter lab --config={filename2}"
   ]
  }
 ],
 "metadata": {
  "kernelspec": {
   "display_name": "Python 3",
   "language": "python",
   "name": "python3"
  },
  "language_info": {
   "codemirror_mode": {
    "name": "ipython",
    "version": 3
   },
   "file_extension": ".py",
   "mimetype": "text/x-python",
   "name": "python",
   "nbconvert_exporter": "python",
   "pygments_lexer": "ipython3",
   "version": "3.8.3"
  }
 },
 "nbformat": 4,
 "nbformat_minor": 5
}
